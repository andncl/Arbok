{
 "cells": [
  {
   "cell_type": "code",
   "execution_count": null,
   "id": "99626ac4-e272-47e8-a973-f5c02f5a18cf",
   "metadata": {},
   "outputs": [],
   "source": [
    "CNOT = ProgramHandler()"
   ]
  },
  {
   "cell_type": "code",
   "execution_count": null,
   "id": "6a12665f-f88a-428a-a109-fdce7a0c78d0",
   "metadata": {},
   "outputs": [],
   "source": [
    "meas_ctrl.settables(\n",
    "    [CNOT.tWait, CNOT.vJ1]\n",
    ")  # as a QCoDeS parameter, 't' obeys the JSON schema for a valid Settable and can be passed to the meas_ctrl directly.\n",
    "meas_ctrl.setpoints_grid([\n",
    "    np.linspace(0, 2, 25), \n",
    "    np.linspace(0, 2, 25)\n",
    "])\n",
    "\n",
    "CNOT.prepare_gettables(meas_ctrl)\n"
   ]
  }
 ],
 "metadata": {
  "kernelspec": {
   "display_name": "temp_env",
   "language": "python",
   "name": "temp_env"
  },
  "language_info": {
   "codemirror_mode": {
    "name": "ipython",
    "version": 3
   },
   "file_extension": ".py",
   "mimetype": "text/x-python",
   "name": "python",
   "nbconvert_exporter": "python",
   "pygments_lexer": "ipython3",
   "version": "3.11.3"
  }
 },
 "nbformat": 4,
 "nbformat_minor": 5
}
