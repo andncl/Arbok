{
 "cells": [
  {
   "cell_type": "code",
   "execution_count": 1,
   "id": "d70665d7-8411-4fba-9c4e-913c97130188",
   "metadata": {},
   "outputs": [],
   "source": [
    "%matplotlib inline\n",
    "import numpy as np\n",
    "\n",
    "import quantify_core.visualization.pyqt_plotmon as pqm\n",
    "import quantify_core.data.handling as dh\n",
    "from quantify_core.analysis import base_analysis as ba\n",
    "from quantify_core.analysis import cosine_analysis as ca\n",
    "from quantify_core.data.handling import (\n",
    "    default_datadir,\n",
    "    set_datadir,\n",
    ")\n",
    "from quantify_core.measurement import MeasurementControl\n",
    "from quantify_core.utilities.examples_support import mk_cosine_instrument\n",
    "from quantify_core.utilities.experiment_helpers import create_plotmon_from_historical\n",
    "\n",
    "from quantify_core.utilities.inspect_utils import display_source_code\n",
    "from quantify_core.visualization.instrument_monitor import InstrumentMonitor"
   ]
  },
  {
   "cell_type": "code",
   "execution_count": 2,
   "id": "ebdc854a-c321-4cfb-b9ba-ec7450fc4da0",
   "metadata": {},
   "outputs": [
    {
     "name": "stdout",
     "output_type": "stream",
     "text": [
      "Data will be saved in:\n",
      "C:\\Users\\z5440260\\quantify-data\n"
     ]
    }
   ],
   "source": [
    "set_datadir(default_datadir())"
   ]
  },
  {
   "cell_type": "code",
   "execution_count": 3,
   "id": "6da2379a-edbc-4a55-b9de-f206c264e60a",
   "metadata": {},
   "outputs": [
    {
     "name": "stdout",
     "output_type": "stream",
     "text": [
      "Logging hadn't been started.\n",
      "Activating auto-logging. Current session state plus future input saved.\n",
      "Filename       : C:\\Users\\z5440260\\.qcodes\\logs\\command_history.log\n",
      "Mode           : append\n",
      "Output logging : True\n",
      "Raw input log  : False\n",
      "Timestamping   : True\n",
      "State          : active\n",
      "Qcodes Logfile : C:\\Users\\z5440260\\.qcodes\\logs\\230711-9712-qcodes.log\n"
     ]
    }
   ],
   "source": [
    "import qcodes as qc\n",
    "qc.logger.start_all_logging()"
   ]
  },
  {
   "cell_type": "code",
   "execution_count": 4,
   "id": "c0fd81df-a29a-49f1-877e-86e8d269fe27",
   "metadata": {
    "scrolled": true
   },
   "outputs": [
    {
     "name": "stderr",
     "output_type": "stream",
     "text": [
      "C:\\Users\\z5440260\\AppData\\Local\\miniconda3\\envs\\temp_env\\Lib\\site-packages\\quantify_core\\visualization\\pyqt_plotmon_remote.py:18: QCoDeSDeprecationWarning: The qcodes.plots is deprecated. Use \"qcodes_loop.plots\" as an alternative.\n",
      "  from qcodes.plots.colors import color_cycle\n",
      "C:\\Users\\z5440260\\AppData\\Local\\miniconda3\\envs\\temp_env\\Lib\\site-packages\\quantify_core\\visualization\\pyqt_plotmon_remote.py:18: QCoDeSDeprecationWarning: The qcodes.plots.colors is deprecated. Use \"qcodes_loop.plots.colors\" as an alternative.\n",
      "  from qcodes.plots.colors import color_cycle\n",
      "C:\\Users\\z5440260\\AppData\\Local\\miniconda3\\envs\\temp_env\\Lib\\site-packages\\qcodes\\plots\\pyqtgraph.py:17: QCoDeSDeprecationWarning: The qcodes.utils.qt_helpers module is deprecated. Use \"qcodes_loop.utils.qt_helpers\" as an alternative.\n",
      "  import qcodes.utils.qt_helpers\n",
      "C:\\Users\\z5440260\\AppData\\Local\\miniconda3\\envs\\temp_env\\Lib\\site-packages\\quantify_core\\visualization\\pyqt_plotmon_remote.py:19: QCoDeSDeprecationWarning: The qcodes.plots.pyqtgraph is deprecated. Use \"qcodes_loop.plots.pyqtgraph\" as an alternative.\n",
      "  from qcodes.plots.pyqtgraph import QtPlot, TransformState\n"
     ]
    }
   ],
   "source": [
    "meas_ctrl = MeasurementControl(\"meas_ctrl\")\n",
    "plotmon = pqm.PlotMonitor_pyqt(\"plotmon\")\n",
    "meas_ctrl.instr_plotmon(plotmon.name)\n",
    "insmon = InstrumentMonitor(\"InstrumentMonitor\")"
   ]
  },
  {
   "cell_type": "code",
   "execution_count": 5,
   "id": "05ef946c-b86b-4532-b9d6-99f0c3e74be6",
   "metadata": {
    "scrolled": true
   },
   "outputs": [],
   "source": [
    "pars = mk_cosine_instrument()"
   ]
  },
  {
   "cell_type": "code",
   "execution_count": 6,
   "id": "c4bbae68-6ff4-48c5-ba15-facedd2558b3",
   "metadata": {},
   "outputs": [],
   "source": [
    "pars.acq_delay(0.1)\n",
    "pars.noise_level(0.5)"
   ]
  },
  {
   "cell_type": "code",
   "execution_count": 7,
   "id": "0dde61e2-53f4-4b61-adcf-8d8b578145b4",
   "metadata": {},
   "outputs": [],
   "source": [
    "meas_ctrl.settables(\n",
    "    [pars.t, pars.freq]\n",
    ")  # as a QCoDeS parameter, 't' obeys the JSON schema for a valid Settable and can be passed to the meas_ctrl directly.\n",
    "meas_ctrl.setpoints_grid([\n",
    "    np.linspace(0, 2, 25), \n",
    "    np.linspace(0, 2, 25)\n",
    "])\n",
    "meas_ctrl.gettables(\n",
    "    pars.sig\n",
    ")  # as a QCoDeS parameter, 'sig' obeys the JSON schema for a valid Gettable and can be passed to the meas_ctrl directly.\n",
    "# opx_plus_driver.prepare_quantify_measurement(meas_ctrl)\n",
    "\n",
    "pars.t.batched = True\n",
    "pars.freq.batched = True\n",
    "pars.sig.batched = True\n",
    "pars.sig.batch_size = 25"
   ]
  },
  {
   "cell_type": "code",
   "execution_count": 8,
   "id": "f8c740bf-9205-47fe-bfe6-36d522bf62e6",
   "metadata": {},
   "outputs": [
    {
     "data": {
      "text/plain": [
       "'sig'"
      ]
     },
     "execution_count": 8,
     "metadata": {},
     "output_type": "execute_result"
    }
   ],
   "source": [
    "meas_ctrl._gettable_pars[0].name"
   ]
  },
  {
   "cell_type": "code",
   "execution_count": 9,
   "id": "d89b9c97-4ec9-4b8c-9b24-ff862874cd25",
   "metadata": {},
   "outputs": [],
   "source": [
    "#dset = meas_ctrl.run(\"my experiment\", soft_avg=100)"
   ]
  },
  {
   "cell_type": "code",
   "execution_count": 10,
   "id": "b7f5c3d4-d911-47d0-a24f-3cf3e4c61edc",
   "metadata": {},
   "outputs": [
    {
     "name": "stdout",
     "output_type": "stream",
     "text": [
      "2023-07-11 19:43:52,289 - qm - INFO     - Starting session: 5fa1e1b7-e52f-487c-976b-3261c6b5a293\n"
     ]
    },
    {
     "ename": "ModuleNotFoundError",
     "evalue": "No module named 'core'",
     "output_type": "error",
     "traceback": [
      "\u001b[1;31m---------------------------------------------------------------------------\u001b[0m",
      "\u001b[1;31mModuleNotFoundError\u001b[0m                       Traceback (most recent call last)",
      "Cell \u001b[1;32mIn[10], line 1\u001b[0m\n\u001b[1;32m----> 1\u001b[0m \u001b[38;5;28;01mfrom\u001b[39;00m \u001b[38;5;21;01marbok\u001b[39;00m\u001b[38;5;21;01m.\u001b[39;00m\u001b[38;5;21;01msamples\u001b[39;00m\u001b[38;5;21;01m.\u001b[39;00m\u001b[38;5;21;01msunshine\u001b[39;00m\u001b[38;5;21;01m.\u001b[39;00m\u001b[38;5;21;01mreadout\u001b[39;00m\u001b[38;5;21;01m.\u001b[39;00m\u001b[38;5;21;01mother_ST_read\u001b[39;00m \u001b[38;5;28;01mimport\u001b[39;00m OtherStReadout\n",
      "File \u001b[1;32mc:\\users\\z5440260\\gitrepos\\arbok\\arbok\\samples\\sunshine\\readout\\other_ST_read.py:2\u001b[0m\n\u001b[0;32m      1\u001b[0m \u001b[38;5;28;01mfrom\u001b[39;00m \u001b[38;5;21;01marbok\u001b[39;00m\u001b[38;5;21;01m.\u001b[39;00m\u001b[38;5;21;01mcore\u001b[39;00m\u001b[38;5;21;01m.\u001b[39;00m\u001b[38;5;21;01msubsequence\u001b[39;00m \u001b[38;5;28;01mimport\u001b[39;00m SubSequence\n\u001b[1;32m----> 2\u001b[0m \u001b[38;5;28;01mfrom\u001b[39;00m \u001b[38;5;21;01marbok\u001b[39;00m\u001b[38;5;21;01m.\u001b[39;00m\u001b[38;5;21;01mQMv2\u001b[39;00m\u001b[38;5;21;01m.\u001b[39;00m\u001b[38;5;21;01mReadout\u001b[39;00m \u001b[38;5;28;01mimport\u001b[39;00m Readout\n\u001b[0;32m      3\u001b[0m \u001b[38;5;28;01mimport\u001b[39;00m \u001b[38;5;21;01mnumpy\u001b[39;00m \u001b[38;5;28;01mas\u001b[39;00m \u001b[38;5;21;01mnp\u001b[39;00m\n\u001b[0;32m      4\u001b[0m \u001b[38;5;28;01mfrom\u001b[39;00m \u001b[38;5;21;01mqm\u001b[39;00m\u001b[38;5;21;01m.\u001b[39;00m\u001b[38;5;21;01mqua\u001b[39;00m \u001b[38;5;28;01mimport\u001b[39;00m \u001b[38;5;241m*\u001b[39m\n",
      "File \u001b[1;32mc:\\users\\z5440260\\gitrepos\\arbok\\arbok\\QMv2\\Readout.py:13\u001b[0m\n\u001b[0;32m     11\u001b[0m \u001b[38;5;28;01mfrom\u001b[39;00m \u001b[38;5;21;01mqm\u001b[39;00m\u001b[38;5;21;01m.\u001b[39;00m\u001b[38;5;21;01mqua\u001b[39;00m \u001b[38;5;28;01mimport\u001b[39;00m \u001b[38;5;241m*\u001b[39m\n\u001b[0;32m     12\u001b[0m \u001b[38;5;28;01mimport\u001b[39;00m \u001b[38;5;21;01mmatplotlib\u001b[39;00m\u001b[38;5;21;01m.\u001b[39;00m\u001b[38;5;21;01mpyplot\u001b[39;00m \u001b[38;5;28;01mas\u001b[39;00m \u001b[38;5;21;01mplt\u001b[39;00m\n\u001b[1;32m---> 13\u001b[0m \u001b[38;5;28;01mfrom\u001b[39;00m \u001b[38;5;21;01mcore\u001b[39;00m\u001b[38;5;21;01m.\u001b[39;00m\u001b[38;5;21;01mBaseClass\u001b[39;00m \u001b[38;5;28;01mimport\u001b[39;00m \u001b[38;5;241m*\u001b[39m\n\u001b[0;32m     15\u001b[0m \u001b[38;5;28;01mclass\u001b[39;00m \u001b[38;5;21;01mReadout\u001b[39;00m(BaseClass):\n\u001b[0;32m     16\u001b[0m     \u001b[38;5;28;01mdef\u001b[39;00m \u001b[38;5;21m__init__\u001b[39m(\u001b[38;5;28mself\u001b[39m, tag\u001b[38;5;241m=\u001b[39m\u001b[38;5;124m'\u001b[39m\u001b[38;5;124m'\u001b[39m, read_label \u001b[38;5;241m=\u001b[39m \u001b[38;5;28;01mNone\u001b[39;00m, threshold \u001b[38;5;241m=\u001b[39m \u001b[38;5;241m0\u001b[39m):\n",
      "\u001b[1;31mModuleNotFoundError\u001b[0m: No module named 'core'"
     ]
    }
   ],
   "source": [
    "from arbok.samples.sunshine.readout.other_ST_read import OtherStReadout"
   ]
  },
  {
   "cell_type": "code",
   "execution_count": null,
   "id": "314f49be-8a97-4832-8ced-9fbf2d21dea2",
   "metadata": {},
   "outputs": [],
   "source": []
  }
 ],
 "metadata": {
  "kernelspec": {
   "display_name": "temp_env",
   "language": "python",
   "name": "temp_env"
  },
  "language_info": {
   "codemirror_mode": {
    "name": "ipython",
    "version": 3
   },
   "file_extension": ".py",
   "mimetype": "text/x-python",
   "name": "python",
   "nbconvert_exporter": "python",
   "pygments_lexer": "ipython3",
   "version": "3.11.3"
  }
 },
 "nbformat": 4,
 "nbformat_minor": 5
}
