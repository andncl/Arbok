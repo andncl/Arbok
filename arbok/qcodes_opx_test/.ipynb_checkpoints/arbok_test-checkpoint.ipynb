{
 "cells": [
  {
   "cell_type": "code",
   "execution_count": 1,
   "id": "6826aaf0-c234-4830-afb4-18caee245bd7",
   "metadata": {},
   "outputs": [
    {
     "name": "stdout",
     "output_type": "stream",
     "text": [
      "2023-06-29 16:38:45,408 - qm - INFO     - Starting session: c6d44e08-5e66-45d0-a11a-0b40233543e7\n"
     ]
    }
   ],
   "source": [
    "from arbok.samples.sunshine.initialization.mixed_down_up_init import (\n",
    "    MixedDownUpInit\n",
    ")\n",
    "from qm.qua import *"
   ]
  },
  {
   "cell_type": "code",
   "execution_count": 4,
   "id": "814ef3fb-ff01-47f3-b8ec-cc21302f95a9",
   "metadata": {},
   "outputs": [
    {
     "name": "stdout",
     "output_type": "stream",
     "text": [
      "[0.0, 0.0, 0.0, 0.0]\n",
      "0.0\n"
     ]
    }
   ],
   "source": [
    "test.test()"
   ]
  },
  {
   "cell_type": "code",
   "execution_count": 5,
   "id": "64f61b8e-ea94-41f8-9260-86783034c794",
   "metadata": {},
   "outputs": [],
   "source": [
    "with program() as prog1:\n",
    "    test.sequence()"
   ]
  },
  {
   "cell_type": "code",
   "execution_count": 6,
   "id": "33f708d2-3db3-4917-84e4-340faa3930d4",
   "metadata": {},
   "outputs": [],
   "source": [
    "from qm.QuantumMachinesManager import QuantumMachinesManager\n",
    "from qm.simulate.credentials import create_credentials"
   ]
  },
  {
   "cell_type": "code",
   "execution_count": 7,
   "id": "a4ac9be3-78d9-44fa-8e75-51307f989312",
   "metadata": {},
   "outputs": [
    {
     "name": "stdout",
     "output_type": "stream",
     "text": [
      "2023-06-29 16:40:27,557 - qm - INFO     - Performing health check\n",
      "2023-06-29 16:40:28,387 - qm - INFO     - Health check passed\n"
     ]
    }
   ],
   "source": [
    "QMM = QuantumMachinesManager(\n",
    "    host='dzurak-6d066ea0.quantum-machines.co',\n",
    "    port=443,\n",
    "    credentials=create_credentials()\n",
    ")"
   ]
  },
  {
   "cell_type": "code",
   "execution_count": null,
   "id": "b41f1fcb-03dd-4178-b65a-79e5fdda9413",
   "metadata": {},
   "outputs": [],
   "source": [
    "from rf2v_config import rf2v_config"
   ]
  },
  {
   "cell_type": "code",
   "execution_count": null,
   "id": "563533ee-ed5d-4567-98d7-f1a23160a518",
   "metadata": {},
   "outputs": [],
   "source": [
    "job = QMM.simulate(dummy_config, prog1, SimulationConfig(duration=2500))\n",
    "\n",
    "samples = job.get_simulated_samples()\n",
    "samples.con1.plot()"
   ]
  }
 ],
 "metadata": {
  "kernelspec": {
   "display_name": "temp_env",
   "language": "python",
   "name": "temp_env"
  },
  "language_info": {
   "codemirror_mode": {
    "name": "ipython",
    "version": 3
   },
   "file_extension": ".py",
   "mimetype": "text/x-python",
   "name": "python",
   "nbconvert_exporter": "python",
   "pygments_lexer": "ipython3",
   "version": "3.11.3"
  }
 },
 "nbformat": 4,
 "nbformat_minor": 5
}
