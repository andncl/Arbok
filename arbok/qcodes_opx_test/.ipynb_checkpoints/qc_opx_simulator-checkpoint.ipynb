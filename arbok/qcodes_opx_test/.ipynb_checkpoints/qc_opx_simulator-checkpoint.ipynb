{
 "cells": [
  {
   "cell_type": "markdown",
   "id": "eab58fff-6a4d-4f45-a454-3f9c67bfb683",
   "metadata": {},
   "source": [
    "# QCoDeS OPX simulator"
   ]
  },
  {
   "cell_type": "markdown",
   "id": "59ba722f-be19-4377-a672-753107e1096b",
   "metadata": {},
   "source": [
    "Import generic packages"
   ]
  },
  {
   "cell_type": "code",
   "execution_count": 1,
   "id": "a0d07b1b-5052-4ffe-8266-3efcdbcdb1f0",
   "metadata": {},
   "outputs": [],
   "source": [
    "from scipy import signal\n",
    "from scipy.fftpack import fft, fftshift\n",
    "\n",
    "import numpy as np\n",
    "import matplotlib.pyplot as plt"
   ]
  },
  {
   "cell_type": "markdown",
   "id": "12bba76f-1e8c-4f62-b3a2-04e1765650da",
   "metadata": {},
   "source": [
    "Importing **RF2v** specific config files"
   ]
  },
  {
   "cell_type": "code",
   "execution_count": 2,
   "id": "059041fb-8bd9-4a53-bd53-84fd98b24bf9",
   "metadata": {
    "scrolled": true
   },
   "outputs": [
    {
     "name": "stdout",
     "output_type": "stream",
     "text": [
      "2023-06-28 18:26:17,508 - qm - INFO     - Starting session: 313c6fa7-9962-4082-8e39-01f6b9b99df0\n"
     ]
    },
    {
     "ename": "ImportError",
     "evalue": "cannot import name 'BaseClass' from 'GeneralMeasurement' (C:\\Users\\z5440260\\GitRepos\\Arbok\\qcodes_opx_test\\GeneralMeasurement.py)",
     "output_type": "error",
     "traceback": [
      "\u001b[1;31m---------------------------------------------------------------------------\u001b[0m",
      "\u001b[1;31mImportError\u001b[0m                               Traceback (most recent call last)",
      "Cell \u001b[1;32mIn[2], line 4\u001b[0m\n\u001b[0;32m      1\u001b[0m \u001b[38;5;28;01mfrom\u001b[39;00m \u001b[38;5;21;01mrf2v_config\u001b[39;00m \u001b[38;5;28;01mimport\u001b[39;00m \u001b[38;5;241m*\u001b[39m\n\u001b[0;32m      2\u001b[0m \u001b[38;5;28;01mfrom\u001b[39;00m \u001b[38;5;21;01mdummy_config\u001b[39;00m \u001b[38;5;28;01mimport\u001b[39;00m dummy_config\n\u001b[1;32m----> 4\u001b[0m \u001b[38;5;28;01mfrom\u001b[39;00m \u001b[38;5;21;01mGeneralMeasurement\u001b[39;00m \u001b[38;5;28;01mimport\u001b[39;00m GeneralMeasurement_1Q, BaseClass\n",
      "\u001b[1;31mImportError\u001b[0m: cannot import name 'BaseClass' from 'GeneralMeasurement' (C:\\Users\\z5440260\\GitRepos\\Arbok\\qcodes_opx_test\\GeneralMeasurement.py)"
     ]
    }
   ],
   "source": [
    "from rf2v_config import *\n",
    "from dummy_config import dummy_config\n",
    "\n",
    "from GeneralMeasurement import GeneralMeasurement_1Q"
   ]
  },
  {
   "cell_type": "markdown",
   "id": "cca2475d-c7f9-4540-9bc4-07d05d9f7a46",
   "metadata": {},
   "source": [
    "Importing Quantum Machines tools"
   ]
  },
  {
   "cell_type": "code",
   "execution_count": null,
   "id": "cbbd6226-8073-49d8-a683-2d08ed86e7d0",
   "metadata": {},
   "outputs": [],
   "source": [
    "from qm.QuantumMachinesManager import QuantumMachinesManager\n",
    "from qm.simulate.credentials import create_credentials"
   ]
  },
  {
   "cell_type": "markdown",
   "id": "080f5470-67e3-4973-8223-d638af0dd0a1",
   "metadata": {},
   "source": [
    "Instanciating QMM from remote simulation OPX."
   ]
  },
  {
   "cell_type": "code",
   "execution_count": null,
   "id": "4565ee7c-10e7-45bb-b94b-ba966e1317d6",
   "metadata": {},
   "outputs": [],
   "source": [
    "QMM = QuantumMachinesManager(\n",
    "    host='dzurak-6d066ea0.quantum-machines.co',\n",
    "    port=443,\n",
    "    credentials=create_credentials()\n",
    ")"
   ]
  },
  {
   "cell_type": "code",
   "execution_count": null,
   "id": "efceab39-b2df-48cb-9662-b84d1259eb47",
   "metadata": {},
   "outputs": [],
   "source": [
    "from MeasurementBlueprint import MeasurementBlueprint"
   ]
  },
  {
   "cell_type": "code",
   "execution_count": null,
   "id": "d99f2227-da76-41e4-965b-7001c7d222af",
   "metadata": {},
   "outputs": [],
   "source": [
    "MB = MeasurementBlueprint()"
   ]
  },
  {
   "cell_type": "code",
   "execution_count": null,
   "id": "050ccc8c-5af5-49c2-9c49-b711a8d7fc69",
   "metadata": {},
   "outputs": [],
   "source": []
  }
 ],
 "metadata": {
  "kernelspec": {
   "display_name": "temp_env",
   "language": "python",
   "name": "temp_env"
  },
  "language_info": {
   "codemirror_mode": {
    "name": "ipython",
    "version": 3
   },
   "file_extension": ".py",
   "mimetype": "text/x-python",
   "name": "python",
   "nbconvert_exporter": "python",
   "pygments_lexer": "ipython3",
   "version": "3.11.3"
  }
 },
 "nbformat": 4,
 "nbformat_minor": 5
}
