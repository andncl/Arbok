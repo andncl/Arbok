











import numpy as np

import qcodes as qc

## Multidimensional scanning module
from qcodes.dataset import (
    LinSweep,
    Measurement,
    dond,
    experiments,
    initialise_or_create_database_at,
    load_by_run_spec,
    load_or_create_experiment,
    plot_dataset,
)

## Using interactive widget
from qcodes.interactive_widget import experiments_widget

## Dummy instruments for generating synthetic data
from qcodes.tests.instrument_mocks import (
    DummyInstrument,
    DummyInstrumentWithMeasurement,
)


qc.logger.start_all_logging()





# A dummy signal generator with two parameters ch1 and ch2
dac = DummyInstrument('dac', gates=['ch1', 'ch2'])

# A dummy digital multimeter that generates a synthetic data depending
# on the values set on the setter_instr, in this case the dummy dac
dmm = DummyInstrumentWithMeasurement('dmm', setter_instr=dac)





dmm.print_readable_snapshot()











dac.ch1(1.1)





dmm.v1()





station = qc.Station()





station.add_component(dac)
station.add_component(dmm)





# Remove the ``_ = `` part to see the full snapshot
_ = station.snapshot()











initialise_or_create_database_at("example_dbs/experiments_for_15_mins.db")





qc.config.core.db_location


import IPython.lib.backgroundjobs as bg
from plottr.apps import inspectr

jobs = bg.BackgroundJobManager()
jobs.new(inspectr.main, qc.config.core.db_location)





tutorial_exp = load_or_create_experiment(
    experiment_name="tutorial_exp",
    sample_name="synthetic data"
)








context_meas = Measurement(exp=tutorial_exp, station=station, name='context_example')








# Register the independent parameter...
context_meas.register_parameter(dac.ch1)
# ...then register the dependent parameter
context_meas.register_parameter(dmm.v1, setpoints=(dac.ch1,))





# Time for periodic background database writes
context_meas.write_period = 0.1

with context_meas.run() as datasaver:
    for set_v in np.linspace(0, 25, 4000):
        dac.ch1.set(set_v)
        get_v = dmm.v1.get()
        datasaver.add_result((dac.ch1, set_v),
                             (dmm.v1, get_v))

    # Convenient to have for plotting and data access
    dataset = datasaver.dataset








# Setting up a doNd measurement
sweep_1 = LinSweep(dac.ch1, -1, 1, 50, 0.01)
sweep_2 = LinSweep(dac.ch2, -1, 1, 20, 0.01)





dond(
    sweep_1,                          # 1st independent parameter
    sweep_2,                          # 2nd independent parameter
    dmm.v1,                           # 1st dependent parameter
    dmm.v2,                           # 2nd dependent parameter
    measurement_name="dond_example",  # Set the measurement name
    write_period=0.1,                 # Set write period
    exp=tutorial_exp,                 # Set the experiment to save data to.
    show_progress=True                # Optional progress bar
)














experiments()








tutorial_exp.data_sets()








dataset_1d = load_by_run_spec(experiment_name='tutorial_exp', captured_run_id=1)
dataset_2d = load_by_run_spec(experiment_name='tutorial_exp', captured_run_id=2)








# Plotting 1d dataset
plot_dataset(dataset_1d)





# Plotting 2d dataset as heatmaps
plot_dataset(dataset_2d)











# All data for all parameters
dataset_1d.get_parameter_data()


# Data for independent parameter
dataset_1d.get_parameter_data('dac_ch1')


# Data for dependent parameter
dataset_1d.get_parameter_data('dmm_v1')








df = dataset_1d.to_pandas_dataframe()
df.head()








xr_dataset = dataset_1d.to_xarray_dataset()
xr_dataset











experiments_widget(sort_by="timestamp")















