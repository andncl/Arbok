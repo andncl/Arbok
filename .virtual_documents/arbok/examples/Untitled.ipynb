CNOT = ProgramHandler()


meas_ctrl.settables(
    [CNOT.tWait, CNOT.vJ1]
)  # as a QCoDeS parameter, 't' obeys the JSON schema for a valid Settable and can be passed to the meas_ctrl directly.
meas_ctrl.setpoints_grid([
    np.linspace(0, 2, 25), 
    np.linspace(0, 2, 25)
])

CNOT.prepare_gettables(meas_ctrl)

