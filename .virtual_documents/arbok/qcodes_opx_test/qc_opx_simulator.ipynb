





from scipy import signal
from scipy.fftpack import fft, fftshift

import numpy as np
import matplotlib.pyplot as plt





from rf2v_config import *
from dummy_config import dummy_config

from GeneralMeasurement import GeneralMeasurement_1Q





from qm.QuantumMachinesManager import QuantumMachinesManager
from qm.simulate.credentials import create_credentials


QMM = QuantumMachinesManager(
    host='dzurak-6d066ea0.quantum-machines.co',
    port=443,
    credentials=create_credentials()
)


from MeasurementBlueprint import MeasurementBlueprint
MB = MeasurementBlueprint()





import os
import qcodes as qc
from qcodes import initialise_or_create_database_at, load_or_create_experiment
from qcodes.utils.dataset.doNd import do2d, do1d, do0d
from qcodes import Parameter
from qualang_tools.external_frameworks.qcodes.opx_driver import OPX


from qm.qua import *
from qm import SimulationConfig
from qm import LoopbackInterface


with program() as prog1:
    a = declare(fixed)
    c = declare(fixed, value=0.4)

    with for_(a, 0.2, a < 0.9, a + 0.1):
            play("constPulse" * amp(a), "qe1")

    save(c, "c")


job = QMM.simulate(dummy_config, prog1, SimulationConfig(duration=2500))

samples = job.get_simulated_samples()
samples.con1.plot()


MB = MeasurementBlueprint()

rf2v_prog = MB.run_sequence()


job_rf2v = QMM.simulate(rf2v_config, rf2v_prog, SimulationConfig(duration=2500))



