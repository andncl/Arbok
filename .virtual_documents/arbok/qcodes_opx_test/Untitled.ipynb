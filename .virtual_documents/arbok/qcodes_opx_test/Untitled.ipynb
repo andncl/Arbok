from arbok.samples.sunshine.initialization.mixed_down_up_init import (
    MixedDownUpInit
)
from qm.qua import *


test = MixedDownUpInit()


test.delta


with program() as prog1:
    align()



