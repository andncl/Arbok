from arbok.samples.sunshine.initialization.mixed_down_up_init import (
    MixedDownUpInit
)
from qm.qua import *
from qm import SimulationConfig
from qm import LoopbackInterface


test = MixedDownUpInit()


with program() as prog1:
    test.sequence()


from qm.QuantumMachinesManager import QuantumMachinesManager
from qm.simulate.credentials import create_credentials


QMM = QuantumMachinesManager(
    host='dzurak-6d066ea0.quantum-machines.co',
    port=443,
    credentials=create_credentials()
)


from arbok.samples.sunshine.configs.rf2v_config import rf2v_config


job = QMM.simulate(rf2v_config, prog1, SimulationConfig(duration=10000))

samples = job.get_simulated_samples()
samples.con1.plot()


np.linspace(-0.13,0.13, 27)








opx_instrument - OpxArbokDriver(config, name="OPX_demo", host="127.0.0.1")
opx_instrument.wait_for_trigger(False)

program_class = ProgramHandler(
    name = "meas_name",
    config = sample_conf,
    init_seq = MixedDownUpInit(),
    control_seq = EmptyControl(),
    readout_seq = DummyReadout(),
    sweep_axis = {
        'InitPoint': [1,2,3,4,5],
        'tRabi': [1,2,3,4,5]
    },
    n_rep = 100,
    outer_averaging_loop = True
)




program_class.do2d(
    sweep_axis = {
        'InitPoint': {
            'start': 0,
            'stop': 100,
            'n_points': 100,
            'delay': 0
        },
        'tRabi': {
            'start': 0,
            'stop': 100,
            'n_points': 100,
            'delay': 0
        },}
    }, 
    show_progress=True,
    do_plot=True,
    exp=experiment,
)
