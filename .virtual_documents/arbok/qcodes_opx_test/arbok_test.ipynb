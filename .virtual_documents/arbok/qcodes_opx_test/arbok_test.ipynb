from arbok.samples.sunshine.initialization.mixed_down_up_init import (
    MixedDownUpInit
)
from qm.qua import *
from qm import SimulationConfig
from qm import LoopbackInterface


test = MixedDownUpInit()


with program() as prog1:
    test.sequence()


from qm.QuantumMachinesManager import QuantumMachinesManager
from qm.simulate.credentials import create_credentials


QMM = QuantumMachinesManager(
    host='dzurak-6d066ea0.quantum-machines.co',
    port=443,
    credentials=create_credentials()
)


from rf2v_config import rf2v_config


job = QMM.simulate(rf2v_config, prog1, SimulationConfig(duration=10000))

samples = job.get_simulated_samples()
samples.con1.plot()


np.linspace(-0.13,0.13, 27)



