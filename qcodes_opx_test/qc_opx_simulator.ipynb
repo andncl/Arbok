{
 "cells": [
  {
   "cell_type": "markdown",
   "id": "eab58fff-6a4d-4f45-a454-3f9c67bfb683",
   "metadata": {},
   "source": [
    "# QCoDeS OPX simulator"
   ]
  },
  {
   "cell_type": "code",
   "execution_count": 3,
   "id": "a0d07b1b-5052-4ffe-8266-3efcdbcdb1f0",
   "metadata": {},
   "outputs": [],
   "source": [
    "from scipy import signal\n",
    "from scipy.fftpack import fft, fftshift\n",
    "\n",
    "import numpy as np\n",
    "import matplotlib.pyplot as plt"
   ]
  },
  {
   "cell_type": "code",
   "execution_count": 4,
   "id": "cbbd6226-8073-49d8-a683-2d08ed86e7d0",
   "metadata": {},
   "outputs": [],
   "source": [
    "from qm.QuantumMachinesManager import QuantumMachinesManager"
   ]
  },
  {
   "cell_type": "code",
   "execution_count": null,
   "id": "4565ee7c-10e7-45bb-b94b-ba966e1317d6",
   "metadata": {},
   "outputs": [],
   "source": []
  }
 ],
 "metadata": {
  "kernelspec": {
   "display_name": "diraq_env",
   "language": "python",
   "name": "diraq_env"
  },
  "language_info": {
   "codemirror_mode": {
    "name": "ipython",
    "version": 3
   },
   "file_extension": ".py",
   "mimetype": "text/x-python",
   "name": "python",
   "nbconvert_exporter": "python",
   "pygments_lexer": "ipython3",
   "version": "3.11.0"
  }
 },
 "nbformat": 4,
 "nbformat_minor": 5
}
