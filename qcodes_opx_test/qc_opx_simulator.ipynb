{
 "cells": [
  {
   "cell_type": "markdown",
   "id": "eab58fff-6a4d-4f45-a454-3f9c67bfb683",
   "metadata": {},
   "source": [
    "# QCoDeS OPX simulator"
   ]
  },
  {
   "cell_type": "markdown",
   "id": "59ba722f-be19-4377-a672-753107e1096b",
   "metadata": {},
   "source": [
    "Import generic packages"
   ]
  },
  {
   "cell_type": "code",
   "execution_count": 9,
   "id": "a0d07b1b-5052-4ffe-8266-3efcdbcdb1f0",
   "metadata": {},
   "outputs": [],
   "source": [
    "from scipy import signal\n",
    "from scipy.fftpack import fft, fftshift\n",
    "\n",
    "import numpy as np\n",
    "import matplotlib.pyplot as plt"
   ]
  },
  {
   "cell_type": "markdown",
   "id": "12bba76f-1e8c-4f62-b3a2-04e1765650da",
   "metadata": {},
   "source": [
    "Importing **RF2v** specific config files"
   ]
  },
  {
   "cell_type": "code",
   "execution_count": 2,
   "id": "059041fb-8bd9-4a53-bd53-84fd98b24bf9",
   "metadata": {},
   "outputs": [
    {
     "name": "stdout",
     "output_type": "stream",
     "text": [
      "2023-06-28 18:32:37,679 - qm - INFO     - Starting session: 02b3c19d-ba7a-40ad-8594-eaf5377d88c9\n"
     ]
    }
   ],
   "source": [
    "from rf2v_config import *\n",
    "from dummy_config import dummy_config\n",
    "\n",
    "from GeneralMeasurement import GeneralMeasurement_1Q"
   ]
  },
  {
   "cell_type": "markdown",
   "id": "cca2475d-c7f9-4540-9bc4-07d05d9f7a46",
   "metadata": {},
   "source": [
    "Importing Quantum Machines tools and instanciate QMM from remote simulation OPX."
   ]
  },
  {
   "cell_type": "code",
   "execution_count": 3,
   "id": "cbbd6226-8073-49d8-a683-2d08ed86e7d0",
   "metadata": {},
   "outputs": [],
   "source": [
    "from qm.QuantumMachinesManager import QuantumMachinesManager\n",
    "from qm.simulate.credentials import create_credentials"
   ]
  },
  {
   "cell_type": "markdown",
   "id": "080f5470-67e3-4973-8223-d638af0dd0a1",
   "metadata": {},
   "source": [
    "QMM = QuantumMachinesManager(\n",
    "    host='dzurak-6d066ea0.quantum-machines.co',\n",
    "    port=443,\n",
    "    credentials=create_credentials()\n",
    ")"
   ]
  },
  {
   "cell_type": "code",
   "execution_count": 5,
   "id": "efceab39-b2df-48cb-9662-b84d1259eb47",
   "metadata": {},
   "outputs": [],
   "source": [
    "from MeasurementBlueprint import MeasurementBlueprint\n",
    "MB = MeasurementBlueprint()"
   ]
  },
  {
   "cell_type": "markdown",
   "id": "c3b16f2a-fcbc-4998-bbee-78e6cc46f73e",
   "metadata": {},
   "source": [
    "Importing and instanciating OPX QCoDeS driver"
   ]
  },
  {
   "cell_type": "code",
   "execution_count": 11,
   "id": "050ccc8c-5af5-49c2-9c49-b711a8d7fc69",
   "metadata": {},
   "outputs": [],
   "source": [
    "import os\n",
    "import qcodes as qc\n",
    "from qcodes import initialise_or_create_database_at, load_or_create_experiment\n",
    "from qcodes.utils.dataset.doNd import do2d, do1d, do0d\n",
    "from qcodes import Parameter\n",
    "from qualang_tools.external_frameworks.qcodes.opx_driver import OPX"
   ]
  },
  {
   "cell_type": "code",
   "execution_count": null,
   "id": "d2932970-3f77-4222-b09c-f269f505ac66",
   "metadata": {},
   "outputs": [],
   "source": [
    "QM = QMM.open_qm(dummy_config)"
   ]
  },
  {
   "cell_type": "code",
   "execution_count": 14,
   "id": "e760e3b5-5840-4bd7-9f68-fb3fdf8afe28",
   "metadata": {},
   "outputs": [
    {
     "name": "stdout",
     "output_type": "stream",
     "text": [
      "2023-06-28 18:56:09,375 - qm - ERROR    - Encountered connection error from QOP\n",
      "Traceback (most recent call last):\n",
      "  File \"C:\\Users\\z5440260\\AppData\\Local\\miniconda3\\envs\\temp_env\\Lib\\site-packages\\qm\\api\\base_api.py\", line 32, in wrapped\n",
      "    return func(*args, **kwargs)\n",
      "           ^^^^^^^^^^^^^^^^^^^^^\n",
      "  File \"C:\\Users\\z5440260\\AppData\\Local\\miniconda3\\envs\\temp_env\\Lib\\site-packages\\qm\\api\\frontend_api.py\", line 81, in get_version\n",
      "    response = run_async(self._stub.get_version(Empty(), timeout=self._timeout))\n",
      "               ^^^^^^^^^^^^^^^^^^^^^^^^^^^^^^^^^^^^^^^^^^^^^^^^^^^^^^^^^^^^^^^^^\n",
      "  File \"C:\\Users\\z5440260\\AppData\\Local\\miniconda3\\envs\\temp_env\\Lib\\site-packages\\qm\\utils\\async_utils.py\", line 31, in run_async\n",
      "    return create_future(coroutine).result()  # type: ignore[no-any-return]\n",
      "           ^^^^^^^^^^^^^^^^^^^^^^^^^^^^^^^^^\n",
      "  File \"C:\\Users\\z5440260\\AppData\\Local\\miniconda3\\envs\\temp_env\\Lib\\concurrent\\futures\\_base.py\", line 456, in result\n",
      "    return self.__get_result()\n",
      "           ^^^^^^^^^^^^^^^^^^^\n",
      "  File \"C:\\Users\\z5440260\\AppData\\Local\\miniconda3\\envs\\temp_env\\Lib\\concurrent\\futures\\_base.py\", line 401, in __get_result\n",
      "    raise self._exception\n",
      "  File \"C:\\Users\\z5440260\\AppData\\Local\\miniconda3\\envs\\temp_env\\Lib\\site-packages\\qm\\grpc\\frontend\\__init__.py\", line 697, in get_version\n",
      "    return await self._unary_unary(\n",
      "           ^^^^^^^^^^^^^^^^^^^^^^^^\n",
      "  File \"C:\\Users\\z5440260\\AppData\\Local\\miniconda3\\envs\\temp_env\\Lib\\site-packages\\betterproto\\grpc\\grpclib_client.py\", line 85, in _unary_unary\n",
      "    response = await stream.recv_message()\n",
      "               ^^^^^^^^^^^^^^^^^^^^^^^^^^^\n",
      "  File \"C:\\Users\\z5440260\\AppData\\Local\\miniconda3\\envs\\temp_env\\Lib\\site-packages\\grpclib\\client.py\", line 425, in recv_message\n",
      "    await self.recv_initial_metadata()\n",
      "  File \"C:\\Users\\z5440260\\AppData\\Local\\miniconda3\\envs\\temp_env\\Lib\\site-packages\\grpclib\\client.py\", line 371, in recv_initial_metadata\n",
      "    self._raise_for_status(headers_map)\n",
      "  File \"C:\\Users\\z5440260\\AppData\\Local\\miniconda3\\envs\\temp_env\\Lib\\site-packages\\grpclib\\client.py\", line 296, in _raise_for_status\n",
      "    raise GRPCError(grpc_status,\n",
      "grpclib.exceptions.GRPCError: (<Status.UNIMPLEMENTED: 12>, \"Received :status = '404'\", None)\n"
     ]
    },
    {
     "ename": "QMConnectionError",
     "evalue": "Encountered connection error from QOP: details: Received :status = '404', status: Status.UNIMPLEMENTED",
     "output_type": "error",
     "traceback": [
      "\u001b[1;31m---------------------------------------------------------------------------\u001b[0m",
      "\u001b[1;31mGRPCError\u001b[0m                                 Traceback (most recent call last)",
      "File \u001b[1;32m~\\AppData\\Local\\miniconda3\\envs\\temp_env\\Lib\\site-packages\\qm\\api\\base_api.py:32\u001b[0m, in \u001b[0;36mconnection_error_handle_decorator.<locals>.wrapped\u001b[1;34m(*args, **kwargs)\u001b[0m\n\u001b[0;32m     31\u001b[0m \u001b[38;5;28;01mtry\u001b[39;00m:\n\u001b[1;32m---> 32\u001b[0m     \u001b[38;5;28;01mreturn\u001b[39;00m \u001b[43mfunc\u001b[49m\u001b[43m(\u001b[49m\u001b[38;5;241;43m*\u001b[39;49m\u001b[43margs\u001b[49m\u001b[43m,\u001b[49m\u001b[43m \u001b[49m\u001b[38;5;241;43m*\u001b[39;49m\u001b[38;5;241;43m*\u001b[39;49m\u001b[43mkwargs\u001b[49m\u001b[43m)\u001b[49m\n\u001b[0;32m     33\u001b[0m \u001b[38;5;28;01mexcept\u001b[39;00m grpclib\u001b[38;5;241m.\u001b[39mexceptions\u001b[38;5;241m.\u001b[39mGRPCError \u001b[38;5;28;01mas\u001b[39;00m e:\n",
      "File \u001b[1;32m~\\AppData\\Local\\miniconda3\\envs\\temp_env\\Lib\\site-packages\\qm\\api\\frontend_api.py:81\u001b[0m, in \u001b[0;36mFrontendApi.get_version\u001b[1;34m(self)\u001b[0m\n\u001b[0;32m     80\u001b[0m \u001b[38;5;28;01mdef\u001b[39;00m \u001b[38;5;21mget_version\u001b[39m(\u001b[38;5;28mself\u001b[39m) \u001b[38;5;241m-\u001b[39m\u001b[38;5;241m>\u001b[39m \u001b[38;5;28mstr\u001b[39m:\n\u001b[1;32m---> 81\u001b[0m     response \u001b[38;5;241m=\u001b[39m \u001b[43mrun_async\u001b[49m\u001b[43m(\u001b[49m\u001b[38;5;28;43mself\u001b[39;49m\u001b[38;5;241;43m.\u001b[39;49m\u001b[43m_stub\u001b[49m\u001b[38;5;241;43m.\u001b[39;49m\u001b[43mget_version\u001b[49m\u001b[43m(\u001b[49m\u001b[43mEmpty\u001b[49m\u001b[43m(\u001b[49m\u001b[43m)\u001b[49m\u001b[43m,\u001b[49m\u001b[43m \u001b[49m\u001b[43mtimeout\u001b[49m\u001b[38;5;241;43m=\u001b[39;49m\u001b[38;5;28;43mself\u001b[39;49m\u001b[38;5;241;43m.\u001b[39;49m\u001b[43m_timeout\u001b[49m\u001b[43m)\u001b[49m\u001b[43m)\u001b[49m\n\u001b[0;32m     82\u001b[0m     \u001b[38;5;28;01mreturn\u001b[39;00m response\u001b[38;5;241m.\u001b[39mvalue\n",
      "File \u001b[1;32m~\\AppData\\Local\\miniconda3\\envs\\temp_env\\Lib\\site-packages\\qm\\utils\\async_utils.py:31\u001b[0m, in \u001b[0;36mrun_async\u001b[1;34m(coroutine)\u001b[0m\n\u001b[0;32m     30\u001b[0m \u001b[38;5;28;01mdef\u001b[39;00m \u001b[38;5;21mrun_async\u001b[39m(coroutine: Coroutine[Any, Any, T]) \u001b[38;5;241m-\u001b[39m\u001b[38;5;241m>\u001b[39m T:\n\u001b[1;32m---> 31\u001b[0m     \u001b[38;5;28;01mreturn\u001b[39;00m \u001b[43mcreate_future\u001b[49m\u001b[43m(\u001b[49m\u001b[43mcoroutine\u001b[49m\u001b[43m)\u001b[49m\u001b[38;5;241;43m.\u001b[39;49m\u001b[43mresult\u001b[49m\u001b[43m(\u001b[49m\u001b[43m)\u001b[49m\n",
      "File \u001b[1;32m~\\AppData\\Local\\miniconda3\\envs\\temp_env\\Lib\\concurrent\\futures\\_base.py:456\u001b[0m, in \u001b[0;36mFuture.result\u001b[1;34m(self, timeout)\u001b[0m\n\u001b[0;32m    455\u001b[0m \u001b[38;5;28;01melif\u001b[39;00m \u001b[38;5;28mself\u001b[39m\u001b[38;5;241m.\u001b[39m_state \u001b[38;5;241m==\u001b[39m FINISHED:\n\u001b[1;32m--> 456\u001b[0m     \u001b[38;5;28;01mreturn\u001b[39;00m \u001b[38;5;28;43mself\u001b[39;49m\u001b[38;5;241;43m.\u001b[39;49m\u001b[43m__get_result\u001b[49m\u001b[43m(\u001b[49m\u001b[43m)\u001b[49m\n\u001b[0;32m    457\u001b[0m \u001b[38;5;28;01melse\u001b[39;00m:\n",
      "File \u001b[1;32m~\\AppData\\Local\\miniconda3\\envs\\temp_env\\Lib\\concurrent\\futures\\_base.py:401\u001b[0m, in \u001b[0;36mFuture.__get_result\u001b[1;34m(self)\u001b[0m\n\u001b[0;32m    400\u001b[0m \u001b[38;5;28;01mtry\u001b[39;00m:\n\u001b[1;32m--> 401\u001b[0m     \u001b[38;5;28;01mraise\u001b[39;00m \u001b[38;5;28mself\u001b[39m\u001b[38;5;241m.\u001b[39m_exception\n\u001b[0;32m    402\u001b[0m \u001b[38;5;28;01mfinally\u001b[39;00m:\n\u001b[0;32m    403\u001b[0m     \u001b[38;5;66;03m# Break a reference cycle with the exception in self._exception\u001b[39;00m\n",
      "File \u001b[1;32m~\\AppData\\Local\\miniconda3\\envs\\temp_env\\Lib\\site-packages\\qm\\grpc\\frontend\\__init__.py:697\u001b[0m, in \u001b[0;36mFrontendStub.get_version\u001b[1;34m(self, betterproto_lib_google_protobuf_empty, timeout, deadline, metadata)\u001b[0m\n\u001b[0;32m    689\u001b[0m \u001b[38;5;28;01masync\u001b[39;00m \u001b[38;5;28;01mdef\u001b[39;00m \u001b[38;5;21mget_version\u001b[39m(\n\u001b[0;32m    690\u001b[0m     \u001b[38;5;28mself\u001b[39m,\n\u001b[0;32m    691\u001b[0m     betterproto_lib_google_protobuf_empty: \u001b[38;5;124m\"\u001b[39m\u001b[38;5;124mbetterproto_lib_google_protobuf.Empty\u001b[39m\u001b[38;5;124m\"\u001b[39m,\n\u001b[1;32m   (...)\u001b[0m\n\u001b[0;32m    695\u001b[0m     metadata: Optional[\u001b[38;5;124m\"\u001b[39m\u001b[38;5;124mMetadataLike\u001b[39m\u001b[38;5;124m\"\u001b[39m] \u001b[38;5;241m=\u001b[39m \u001b[38;5;28;01mNone\u001b[39;00m\n\u001b[0;32m    696\u001b[0m ) \u001b[38;5;241m-\u001b[39m\u001b[38;5;241m>\u001b[39m \u001b[38;5;124m\"\u001b[39m\u001b[38;5;124mbetterproto_lib_google_protobuf.StringValue\u001b[39m\u001b[38;5;124m\"\u001b[39m:\n\u001b[1;32m--> 697\u001b[0m     \u001b[38;5;28;01mreturn\u001b[39;00m \u001b[38;5;28;01mawait\u001b[39;00m \u001b[38;5;28mself\u001b[39m\u001b[38;5;241m.\u001b[39m_unary_unary(\n\u001b[0;32m    698\u001b[0m         \u001b[38;5;124m\"\u001b[39m\u001b[38;5;124m/qm.grpc.frontend.Frontend/GetVersion\u001b[39m\u001b[38;5;124m\"\u001b[39m,\n\u001b[0;32m    699\u001b[0m         betterproto_lib_google_protobuf_empty,\n\u001b[0;32m    700\u001b[0m         betterproto_lib_google_protobuf\u001b[38;5;241m.\u001b[39mStringValue,\n\u001b[0;32m    701\u001b[0m         timeout\u001b[38;5;241m=\u001b[39mtimeout,\n\u001b[0;32m    702\u001b[0m         deadline\u001b[38;5;241m=\u001b[39mdeadline,\n\u001b[0;32m    703\u001b[0m         metadata\u001b[38;5;241m=\u001b[39mmetadata,\n\u001b[0;32m    704\u001b[0m     )\n",
      "File \u001b[1;32m~\\AppData\\Local\\miniconda3\\envs\\temp_env\\Lib\\site-packages\\betterproto\\grpc\\grpclib_client.py:85\u001b[0m, in \u001b[0;36mServiceStub._unary_unary\u001b[1;34m(self, route, request, response_type, timeout, deadline, metadata)\u001b[0m\n\u001b[0;32m     84\u001b[0m     \u001b[38;5;28;01mawait\u001b[39;00m stream\u001b[38;5;241m.\u001b[39msend_message(request, end\u001b[38;5;241m=\u001b[39m\u001b[38;5;28;01mTrue\u001b[39;00m)\n\u001b[1;32m---> 85\u001b[0m     response \u001b[38;5;241m=\u001b[39m \u001b[38;5;28;01mawait\u001b[39;00m stream\u001b[38;5;241m.\u001b[39mrecv_message()\n\u001b[0;32m     86\u001b[0m \u001b[38;5;28;01massert\u001b[39;00m response \u001b[38;5;129;01mis\u001b[39;00m \u001b[38;5;129;01mnot\u001b[39;00m \u001b[38;5;28;01mNone\u001b[39;00m\n",
      "File \u001b[1;32m~\\AppData\\Local\\miniconda3\\envs\\temp_env\\Lib\\site-packages\\grpclib\\client.py:425\u001b[0m, in \u001b[0;36mStream.recv_message\u001b[1;34m(self)\u001b[0m\n\u001b[0;32m    424\u001b[0m \u001b[38;5;28;01mif\u001b[39;00m \u001b[38;5;129;01mnot\u001b[39;00m \u001b[38;5;28mself\u001b[39m\u001b[38;5;241m.\u001b[39m_recv_initial_metadata_done:\n\u001b[1;32m--> 425\u001b[0m     \u001b[38;5;28;01mawait\u001b[39;00m \u001b[38;5;28mself\u001b[39m\u001b[38;5;241m.\u001b[39mrecv_initial_metadata()\n\u001b[0;32m    427\u001b[0m \u001b[38;5;28;01mwith\u001b[39;00m \u001b[38;5;28mself\u001b[39m\u001b[38;5;241m.\u001b[39m_wrapper:\n",
      "File \u001b[1;32m~\\AppData\\Local\\miniconda3\\envs\\temp_env\\Lib\\site-packages\\grpclib\\client.py:371\u001b[0m, in \u001b[0;36mStream.recv_initial_metadata\u001b[1;34m(self)\u001b[0m\n\u001b[0;32m    370\u001b[0m headers_map \u001b[38;5;241m=\u001b[39m \u001b[38;5;28mdict\u001b[39m(headers)\n\u001b[1;32m--> 371\u001b[0m \u001b[38;5;28;43mself\u001b[39;49m\u001b[38;5;241;43m.\u001b[39;49m\u001b[43m_raise_for_status\u001b[49m\u001b[43m(\u001b[49m\u001b[43mheaders_map\u001b[49m\u001b[43m)\u001b[49m\n\u001b[0;32m    372\u001b[0m \u001b[38;5;28mself\u001b[39m\u001b[38;5;241m.\u001b[39m_raise_for_content_type(headers_map)\n",
      "File \u001b[1;32m~\\AppData\\Local\\miniconda3\\envs\\temp_env\\Lib\\site-packages\\grpclib\\client.py:296\u001b[0m, in \u001b[0;36mStream._raise_for_status\u001b[1;34m(self, headers_map)\u001b[0m\n\u001b[0;32m    295\u001b[0m grpc_status \u001b[38;5;241m=\u001b[39m _H2_TO_GRPC_STATUS_MAP\u001b[38;5;241m.\u001b[39mget(status, Status\u001b[38;5;241m.\u001b[39mUNKNOWN)\n\u001b[1;32m--> 296\u001b[0m \u001b[38;5;28;01mraise\u001b[39;00m GRPCError(grpc_status,\n\u001b[0;32m    297\u001b[0m                 \u001b[38;5;124m'\u001b[39m\u001b[38;5;124mReceived :status = \u001b[39m\u001b[38;5;132;01m{!r}\u001b[39;00m\u001b[38;5;124m'\u001b[39m\u001b[38;5;241m.\u001b[39mformat(status))\n",
      "\u001b[1;31mGRPCError\u001b[0m: (<Status.UNIMPLEMENTED: 12>, \"Received :status = '404'\", None)",
      "\nThe above exception was the direct cause of the following exception:\n",
      "\u001b[1;31mQMConnectionError\u001b[0m                         Traceback (most recent call last)",
      "Cell \u001b[1;32mIn[14], line 13\u001b[0m\n\u001b[0;32m      8\u001b[0m experiment \u001b[38;5;241m=\u001b[39m load_or_create_experiment(\n\u001b[0;32m      9\u001b[0m     experiment_name\u001b[38;5;241m=\u001b[39mexp_name, sample_name\u001b[38;5;241m=\u001b[39msample_name\n\u001b[0;32m     10\u001b[0m )\n\u001b[0;32m     12\u001b[0m station \u001b[38;5;241m=\u001b[39m qc\u001b[38;5;241m.\u001b[39mStation()\n\u001b[1;32m---> 13\u001b[0m opx_instrument \u001b[38;5;241m=\u001b[39m \u001b[43mOPX\u001b[49m\u001b[43m(\u001b[49m\n\u001b[0;32m     14\u001b[0m \u001b[43m    \u001b[49m\u001b[43mdummy_config\u001b[49m\u001b[43m,\u001b[49m\u001b[43m \u001b[49m\u001b[43mname\u001b[49m\u001b[38;5;241;43m=\u001b[39;49m\u001b[38;5;124;43m\"\u001b[39;49m\u001b[38;5;124;43mOPX_demo\u001b[39;49m\u001b[38;5;124;43m\"\u001b[39;49m\u001b[43m,\u001b[49m\u001b[43m \u001b[49m\n\u001b[0;32m     15\u001b[0m \u001b[43m    \u001b[49m\u001b[43mhost\u001b[49m\u001b[38;5;241;43m=\u001b[39;49m\u001b[38;5;124;43m'\u001b[39;49m\u001b[38;5;124;43mdzurak-6d066ea0.quantum-machines.co\u001b[39;49m\u001b[38;5;124;43m'\u001b[39;49m\u001b[43m,\u001b[49m\n\u001b[0;32m     16\u001b[0m \u001b[43m    \u001b[49m\u001b[43mport\u001b[49m\u001b[38;5;241;43m=\u001b[39;49m\u001b[38;5;241;43m443\u001b[39;49m\u001b[43m,\u001b[49m\n\u001b[0;32m     17\u001b[0m \u001b[43m)\u001b[49m\n\u001b[0;32m     18\u001b[0m station\u001b[38;5;241m.\u001b[39madd_component(opx_instrument)\n",
      "File \u001b[1;32m~\\AppData\\Local\\miniconda3\\envs\\temp_env\\Lib\\site-packages\\qcodes\\instrument\\instrument_meta.py:36\u001b[0m, in \u001b[0;36mInstrumentMeta.__call__\u001b[1;34m(cls, *args, **kwargs)\u001b[0m\n\u001b[0;32m     31\u001b[0m \u001b[38;5;28;01mdef\u001b[39;00m \u001b[38;5;21m__call__\u001b[39m(\u001b[38;5;28mcls\u001b[39m, \u001b[38;5;241m*\u001b[39margs: Any, \u001b[38;5;241m*\u001b[39m\u001b[38;5;241m*\u001b[39mkwargs: Any) \u001b[38;5;241m-\u001b[39m\u001b[38;5;241m>\u001b[39m Any:\n\u001b[0;32m     32\u001b[0m \u001b[38;5;250m    \u001b[39m\u001b[38;5;124;03m\"\"\"\u001b[39;00m\n\u001b[0;32m     33\u001b[0m \u001b[38;5;124;03m    Overloads `type.__call__` to add code that runs only if __init__ completes\u001b[39;00m\n\u001b[0;32m     34\u001b[0m \u001b[38;5;124;03m    successfully.\u001b[39;00m\n\u001b[0;32m     35\u001b[0m \u001b[38;5;124;03m    \"\"\"\u001b[39;00m\n\u001b[1;32m---> 36\u001b[0m     new_inst \u001b[38;5;241m=\u001b[39m \u001b[38;5;28;43msuper\u001b[39;49m\u001b[43m(\u001b[49m\u001b[43m)\u001b[49m\u001b[38;5;241;43m.\u001b[39;49m\u001b[38;5;21;43m__call__\u001b[39;49m\u001b[43m(\u001b[49m\u001b[38;5;241;43m*\u001b[39;49m\u001b[43margs\u001b[49m\u001b[43m,\u001b[49m\u001b[43m \u001b[49m\u001b[38;5;241;43m*\u001b[39;49m\u001b[38;5;241;43m*\u001b[39;49m\u001b[43mkwargs\u001b[49m\u001b[43m)\u001b[49m\n\u001b[0;32m     37\u001b[0m     is_abstract \u001b[38;5;241m=\u001b[39m new_inst\u001b[38;5;241m.\u001b[39m_is_abstract()\n\u001b[0;32m     38\u001b[0m     \u001b[38;5;28;01mif\u001b[39;00m is_abstract:\n",
      "File \u001b[1;32m~\\AppData\\Roaming\\Python\\Python311\\site-packages\\qualang_tools\\external_frameworks\\qcodes\\opx_driver.py:147\u001b[0m, in \u001b[0;36mOPX.__init__\u001b[1;34m(self, config, name, host, port, octave, close_other_machines)\u001b[0m\n\u001b[0;32m    136\u001b[0m \u001b[38;5;28mself\u001b[39m\u001b[38;5;241m.\u001b[39madd_parameter(\n\u001b[0;32m    137\u001b[0m     \u001b[38;5;124m\"\u001b[39m\u001b[38;5;124maxis2_axis\u001b[39m\u001b[38;5;124m\"\u001b[39m,\n\u001b[0;32m    138\u001b[0m     unit\u001b[38;5;241m=\u001b[39m\u001b[38;5;124m\"\u001b[39m\u001b[38;5;124m\"\u001b[39m,\n\u001b[1;32m   (...)\u001b[0m\n\u001b[0;32m    144\u001b[0m     vals\u001b[38;5;241m=\u001b[39mArrays(shape\u001b[38;5;241m=\u001b[39m(\u001b[38;5;28mself\u001b[39m\u001b[38;5;241m.\u001b[39maxis2_npoints\u001b[38;5;241m.\u001b[39mget_latest,)),\n\u001b[0;32m    145\u001b[0m )\n\u001b[0;32m    146\u001b[0m \u001b[38;5;66;03m# Open QMM\u001b[39;00m\n\u001b[1;32m--> 147\u001b[0m \u001b[38;5;28;43mself\u001b[39;49m\u001b[38;5;241;43m.\u001b[39;49m\u001b[43mconnect_to_qmm\u001b[49m\u001b[43m(\u001b[49m\u001b[43mhost\u001b[49m\u001b[38;5;241;43m=\u001b[39;49m\u001b[43mhost\u001b[49m\u001b[43m,\u001b[49m\u001b[43m \u001b[49m\u001b[43mport\u001b[49m\u001b[38;5;241;43m=\u001b[39;49m\u001b[43mport\u001b[49m\u001b[43m,\u001b[49m\u001b[43m \u001b[49m\u001b[43moctave\u001b[49m\u001b[38;5;241;43m=\u001b[39;49m\u001b[43moctave\u001b[49m\u001b[43m)\u001b[49m\n\u001b[0;32m    148\u001b[0m \u001b[38;5;66;03m# Set config\u001b[39;00m\n\u001b[0;32m    149\u001b[0m \u001b[38;5;28mself\u001b[39m\u001b[38;5;241m.\u001b[39mset_config(config\u001b[38;5;241m=\u001b[39mconfig)\n",
      "File \u001b[1;32m~\\AppData\\Roaming\\Python\\Python311\\site-packages\\qualang_tools\\external_frameworks\\qcodes\\opx_driver.py:162\u001b[0m, in \u001b[0;36mOPX.connect_to_qmm\u001b[1;34m(self, host, port, octave)\u001b[0m\n\u001b[0;32m    153\u001b[0m \u001b[38;5;28;01mdef\u001b[39;00m \u001b[38;5;21mconnect_to_qmm\u001b[39m(\u001b[38;5;28mself\u001b[39m, host\u001b[38;5;241m=\u001b[39m\u001b[38;5;28;01mNone\u001b[39;00m, port\u001b[38;5;241m=\u001b[39m\u001b[38;5;28;01mNone\u001b[39;00m, octave\u001b[38;5;241m=\u001b[39m\u001b[38;5;28;01mNone\u001b[39;00m):\n\u001b[0;32m    154\u001b[0m \u001b[38;5;250m    \u001b[39m\u001b[38;5;124;03m\"\"\"\u001b[39;00m\n\u001b[0;32m    155\u001b[0m \u001b[38;5;124;03m    Enable the connection with the OPX by creating the QuantumMachineManager.\u001b[39;00m\n\u001b[0;32m    156\u001b[0m \u001b[38;5;124;03m    Displays the connection message with idn when the connection is established.\u001b[39;00m\n\u001b[1;32m   (...)\u001b[0m\n\u001b[0;32m    160\u001b[0m \u001b[38;5;124;03m    :param octave: Octave configuration if an Octave is to be used in this experiment.\u001b[39;00m\n\u001b[0;32m    161\u001b[0m \u001b[38;5;124;03m    \"\"\"\u001b[39;00m\n\u001b[1;32m--> 162\u001b[0m     \u001b[38;5;28mself\u001b[39m\u001b[38;5;241m.\u001b[39mqmm \u001b[38;5;241m=\u001b[39m \u001b[43mQuantumMachinesManager\u001b[49m\u001b[43m(\u001b[49m\u001b[43mhost\u001b[49m\u001b[38;5;241;43m=\u001b[39;49m\u001b[43mhost\u001b[49m\u001b[43m,\u001b[49m\u001b[43m \u001b[49m\u001b[43mport\u001b[49m\u001b[38;5;241;43m=\u001b[39;49m\u001b[43mport\u001b[49m\u001b[43m,\u001b[49m\u001b[43m \u001b[49m\u001b[43moctave\u001b[49m\u001b[38;5;241;43m=\u001b[39;49m\u001b[43moctave\u001b[49m\u001b[43m)\u001b[49m\n\u001b[0;32m    163\u001b[0m     \u001b[38;5;28mself\u001b[39m\u001b[38;5;241m.\u001b[39mconnect_message()\n",
      "File \u001b[1;32m~\\AppData\\Local\\miniconda3\\envs\\temp_env\\Lib\\site-packages\\qm\\QuantumMachinesManager.py:78\u001b[0m, in \u001b[0;36mQuantumMachinesManager.__init__\u001b[1;34m(self, host, port, timeout, log_level, connection_headers, add_debug_data, credentials, store, file_store_root, octave)\u001b[0m\n\u001b[0;32m     75\u001b[0m \u001b[38;5;28mself\u001b[39m\u001b[38;5;241m.\u001b[39m_octave_config \u001b[38;5;241m=\u001b[39m octave\n\u001b[0;32m     76\u001b[0m \u001b[38;5;28mself\u001b[39m\u001b[38;5;241m.\u001b[39m_octave_manager \u001b[38;5;241m=\u001b[39m OctaveManager(octave, \u001b[38;5;28mself\u001b[39m)\n\u001b[1;32m---> 78\u001b[0m \u001b[38;5;28mself\u001b[39m\u001b[38;5;241m.\u001b[39m_server_details \u001b[38;5;241m=\u001b[39m \u001b[38;5;28;43mself\u001b[39;49m\u001b[38;5;241;43m.\u001b[39;49m\u001b[43m_initialize_connection\u001b[49m\u001b[43m(\u001b[49m\n\u001b[0;32m     79\u001b[0m \u001b[43m    \u001b[49m\u001b[43mtimeout\u001b[49m\u001b[38;5;241;43m=\u001b[39;49m\u001b[43mtimeout\u001b[49m\u001b[43m,\u001b[49m\n\u001b[0;32m     80\u001b[0m \u001b[43m    \u001b[49m\u001b[43madd_debug_data\u001b[49m\u001b[38;5;241;43m=\u001b[39;49m\u001b[43madd_debug_data\u001b[49m\u001b[43m,\u001b[49m\n\u001b[0;32m     81\u001b[0m \u001b[43m    \u001b[49m\u001b[43mconnection_headers\u001b[49m\u001b[38;5;241;43m=\u001b[39;49m\u001b[43mconnection_headers\u001b[49m\u001b[43m,\u001b[49m\n\u001b[0;32m     82\u001b[0m \u001b[43m\u001b[49m\u001b[43m)\u001b[49m\n\u001b[0;32m     84\u001b[0m \u001b[38;5;28mself\u001b[39m\u001b[38;5;241m.\u001b[39m_caps \u001b[38;5;241m=\u001b[39m \u001b[38;5;28mself\u001b[39m\u001b[38;5;241m.\u001b[39m_server_details\u001b[38;5;241m.\u001b[39mcapabilities\n\u001b[0;32m     85\u001b[0m \u001b[38;5;28mself\u001b[39m\u001b[38;5;241m.\u001b[39m_frontend \u001b[38;5;241m=\u001b[39m FrontendApi(\u001b[38;5;28mself\u001b[39m\u001b[38;5;241m.\u001b[39m_server_details\u001b[38;5;241m.\u001b[39mconnection_details)\n",
      "File \u001b[1;32m~\\AppData\\Local\\miniconda3\\envs\\temp_env\\Lib\\site-packages\\qm\\QuantumMachinesManager.py:100\u001b[0m, in \u001b[0;36mQuantumMachinesManager._initialize_connection\u001b[1;34m(self, timeout, add_debug_data, connection_headers)\u001b[0m\n\u001b[0;32m     94\u001b[0m \u001b[38;5;28;01mdef\u001b[39;00m \u001b[38;5;21m_initialize_connection\u001b[39m(\n\u001b[0;32m     95\u001b[0m     \u001b[38;5;28mself\u001b[39m,\n\u001b[0;32m     96\u001b[0m     timeout: Optional[\u001b[38;5;28mfloat\u001b[39m],\n\u001b[0;32m     97\u001b[0m     add_debug_data: \u001b[38;5;28mbool\u001b[39m,\n\u001b[0;32m     98\u001b[0m     connection_headers: Optional[Dict[\u001b[38;5;28mstr\u001b[39m, \u001b[38;5;28mstr\u001b[39m]],\n\u001b[0;32m     99\u001b[0m ) \u001b[38;5;241m-\u001b[39m\u001b[38;5;241m>\u001b[39m ServerDetails:\n\u001b[1;32m--> 100\u001b[0m     server_details \u001b[38;5;241m=\u001b[39m \u001b[43mdetect_server\u001b[49m\u001b[43m(\u001b[49m\n\u001b[0;32m    101\u001b[0m \u001b[43m        \u001b[49m\u001b[43muser_token\u001b[49m\u001b[38;5;241;43m=\u001b[39;49m\u001b[38;5;28;43mself\u001b[39;49m\u001b[38;5;241;43m.\u001b[39;49m\u001b[43m_user_config\u001b[49m\u001b[38;5;241;43m.\u001b[39;49m\u001b[43muser_token\u001b[49m\u001b[43m,\u001b[49m\n\u001b[0;32m    102\u001b[0m \u001b[43m        \u001b[49m\u001b[43mcredentials\u001b[49m\u001b[38;5;241;43m=\u001b[39;49m\u001b[38;5;28;43mself\u001b[39;49m\u001b[38;5;241;43m.\u001b[39;49m\u001b[43m_credentials\u001b[49m\u001b[43m,\u001b[49m\n\u001b[0;32m    103\u001b[0m \u001b[43m        \u001b[49m\u001b[43mhost\u001b[49m\u001b[38;5;241;43m=\u001b[39;49m\u001b[38;5;28;43mself\u001b[39;49m\u001b[38;5;241;43m.\u001b[39;49m\u001b[43m_host\u001b[49m\u001b[43m,\u001b[49m\n\u001b[0;32m    104\u001b[0m \u001b[43m        \u001b[49m\u001b[43mport_from_user_config\u001b[49m\u001b[38;5;241;43m=\u001b[39;49m\u001b[38;5;28;43mself\u001b[39;49m\u001b[38;5;241;43m.\u001b[39;49m\u001b[43m_user_config\u001b[49m\u001b[38;5;241;43m.\u001b[39;49m\u001b[43mmanager_port\u001b[49m\u001b[43m,\u001b[49m\n\u001b[0;32m    105\u001b[0m \u001b[43m        \u001b[49m\u001b[43muser_provided_port\u001b[49m\u001b[38;5;241;43m=\u001b[39;49m\u001b[38;5;28;43mself\u001b[39;49m\u001b[38;5;241;43m.\u001b[39;49m\u001b[43m_port\u001b[49m\u001b[43m,\u001b[49m\n\u001b[0;32m    106\u001b[0m \u001b[43m        \u001b[49m\u001b[43madd_debug_data\u001b[49m\u001b[38;5;241;43m=\u001b[39;49m\u001b[43madd_debug_data\u001b[49m\u001b[43m,\u001b[49m\n\u001b[0;32m    107\u001b[0m \u001b[43m        \u001b[49m\u001b[43mtimeout\u001b[49m\u001b[38;5;241;43m=\u001b[39;49m\u001b[43mtimeout\u001b[49m\u001b[43m,\u001b[49m\n\u001b[0;32m    108\u001b[0m \u001b[43m        \u001b[49m\u001b[43mextra_headers\u001b[49m\u001b[38;5;241;43m=\u001b[39;49m\u001b[43mconnection_headers\u001b[49m\u001b[43m,\u001b[49m\n\u001b[0;32m    109\u001b[0m \u001b[43m    \u001b[49m\u001b[43m)\u001b[49m\n\u001b[0;32m    110\u001b[0m     create_capabilities_container(server_details\u001b[38;5;241m.\u001b[39mqua_implementation)\n\u001b[0;32m    111\u001b[0m     \u001b[38;5;28;01mreturn\u001b[39;00m server_details\n",
      "File \u001b[1;32m~\\AppData\\Local\\miniconda3\\envs\\temp_env\\Lib\\site-packages\\qm\\api\\server_detector.py:101\u001b[0m, in \u001b[0;36mdetect_server\u001b[1;34m(user_token, credentials, host, port_from_user_config, user_provided_port, add_debug_data, timeout, max_message_size, extra_headers)\u001b[0m\n\u001b[0;32m     98\u001b[0m     extra_headers \u001b[38;5;241m=\u001b[39m {}\n\u001b[0;32m    100\u001b[0m \u001b[38;5;28;01mfor\u001b[39;00m port \u001b[38;5;129;01min\u001b[39;00m ports_to_try:\n\u001b[1;32m--> 101\u001b[0m     detected \u001b[38;5;241m=\u001b[39m \u001b[43m_create_server_info\u001b[49m\u001b[43m(\u001b[49m\n\u001b[0;32m    102\u001b[0m \u001b[43m        \u001b[49m\u001b[43muser_token\u001b[49m\u001b[43m,\u001b[49m\n\u001b[0;32m    103\u001b[0m \u001b[43m        \u001b[49m\u001b[43mcredentials\u001b[49m\u001b[43m,\u001b[49m\n\u001b[0;32m    104\u001b[0m \u001b[43m        \u001b[49m\u001b[43mhost\u001b[49m\u001b[43m,\u001b[49m\n\u001b[0;32m    105\u001b[0m \u001b[43m        \u001b[49m\u001b[43mport\u001b[49m\u001b[43m,\u001b[49m\n\u001b[0;32m    106\u001b[0m \u001b[43m        \u001b[49m\u001b[43madd_debug_data\u001b[49m\u001b[43m,\u001b[49m\n\u001b[0;32m    107\u001b[0m \u001b[43m        \u001b[49m\u001b[43mextra_headers\u001b[49m\u001b[43m,\u001b[49m\n\u001b[0;32m    108\u001b[0m \u001b[43m        \u001b[49m\u001b[43mtimeout\u001b[49m\u001b[43m,\u001b[49m\n\u001b[0;32m    109\u001b[0m \u001b[43m        \u001b[49m\u001b[43mmax_message_size\u001b[49m\u001b[43m,\u001b[49m\n\u001b[0;32m    110\u001b[0m \u001b[43m    \u001b[49m\u001b[43m)\u001b[49m\n\u001b[0;32m    111\u001b[0m     \u001b[38;5;28;01mif\u001b[39;00m detected\u001b[38;5;241m.\u001b[39mqop_version \u001b[38;5;129;01mis\u001b[39;00m \u001b[38;5;129;01mnot\u001b[39;00m \u001b[38;5;28;01mNone\u001b[39;00m:\n\u001b[0;32m    112\u001b[0m         \u001b[38;5;28;01mreturn\u001b[39;00m detected\n",
      "File \u001b[1;32m~\\AppData\\Local\\miniconda3\\envs\\temp_env\\Lib\\site-packages\\qm\\api\\server_detector.py:56\u001b[0m, in \u001b[0;36m_create_server_info\u001b[1;34m(user_token, credentials, host, port, add_debug_data, headers, timeout, max_message_size)\u001b[0m\n\u001b[0;32m     53\u001b[0m info_service \u001b[38;5;241m=\u001b[39m InfoServiceApi(connection_details)\n\u001b[0;32m     55\u001b[0m \u001b[38;5;28;01mtry\u001b[39;00m:\n\u001b[1;32m---> 56\u001b[0m     qop_version \u001b[38;5;241m=\u001b[39m \u001b[43mfrontend\u001b[49m\u001b[38;5;241;43m.\u001b[39;49m\u001b[43mget_version\u001b[49m\u001b[43m(\u001b[49m\u001b[43m)\u001b[49m\n\u001b[0;32m     57\u001b[0m \u001b[38;5;28;01mexcept\u001b[39;00m (GRPCError, \u001b[38;5;167;01mOSError\u001b[39;00m, QMTimeoutError):\n\u001b[0;32m     58\u001b[0m     qop_version \u001b[38;5;241m=\u001b[39m \u001b[38;5;28;01mNone\u001b[39;00m\n",
      "File \u001b[1;32m~\\AppData\\Local\\miniconda3\\envs\\temp_env\\Lib\\site-packages\\qm\\api\\base_api.py:35\u001b[0m, in \u001b[0;36mconnection_error_handle_decorator.<locals>.wrapped\u001b[1;34m(*args, **kwargs)\u001b[0m\n\u001b[0;32m     33\u001b[0m \u001b[38;5;28;01mexcept\u001b[39;00m grpclib\u001b[38;5;241m.\u001b[39mexceptions\u001b[38;5;241m.\u001b[39mGRPCError \u001b[38;5;28;01mas\u001b[39;00m e:\n\u001b[0;32m     34\u001b[0m     logger\u001b[38;5;241m.\u001b[39mexception(\u001b[38;5;124m\"\u001b[39m\u001b[38;5;124mEncountered connection error from QOP\u001b[39m\u001b[38;5;124m\"\u001b[39m)\n\u001b[1;32m---> 35\u001b[0m     \u001b[38;5;28;01mraise\u001b[39;00m QMConnectionError(\n\u001b[0;32m     36\u001b[0m         \u001b[38;5;124mf\u001b[39m\u001b[38;5;124m\"\u001b[39m\u001b[38;5;124mEncountered connection error from QOP: details: \u001b[39m\u001b[38;5;132;01m{\u001b[39;00me\u001b[38;5;241m.\u001b[39mmessage\u001b[38;5;132;01m}\u001b[39;00m\u001b[38;5;124m, status: \u001b[39m\u001b[38;5;132;01m{\u001b[39;00me\u001b[38;5;241m.\u001b[39mstatus\u001b[38;5;132;01m}\u001b[39;00m\u001b[38;5;124m\"\u001b[39m\n\u001b[0;32m     37\u001b[0m     ) \u001b[38;5;28;01mfrom\u001b[39;00m \u001b[38;5;21;01me\u001b[39;00m\n\u001b[0;32m     38\u001b[0m \u001b[38;5;28;01mexcept\u001b[39;00m asyncio\u001b[38;5;241m.\u001b[39mTimeoutError \u001b[38;5;28;01mas\u001b[39;00m e:\n\u001b[0;32m     39\u001b[0m     logger\u001b[38;5;241m.\u001b[39mexception(\u001b[38;5;124mf\u001b[39m\u001b[38;5;124m\"\u001b[39m\u001b[38;5;124mTimeout reached while running \u001b[39m\u001b[38;5;124m'\u001b[39m\u001b[38;5;132;01m{\u001b[39;00mfunc\u001b[38;5;241m.\u001b[39m\u001b[38;5;18m__name__\u001b[39m\u001b[38;5;132;01m}\u001b[39;00m\u001b[38;5;124m'\u001b[39m\u001b[38;5;124m\"\u001b[39m)\n",
      "\u001b[1;31mQMConnectionError\u001b[0m: Encountered connection error from QOP: details: Received :status = '404', status: Status.UNIMPLEMENTED"
     ]
    }
   ],
   "source": [
    "db_name = \"QM_demo.db\"  # Database name\n",
    "sample_name = \"demo\"  # Sample name\n",
    "exp_name = \"OPX_qcodes_drivers\"  # Experiment name\n",
    "\n",
    "db_file_path = os.path.join(os.getcwd(), db_name)\n",
    "qc.config.core.db_location = db_file_path\n",
    "initialise_or_create_database_at(db_file_path)\n",
    "experiment = load_or_create_experiment(\n",
    "    experiment_name=exp_name, sample_name=sample_name\n",
    ")\n",
    "\n",
    "station = qc.Station()\n",
    "opx_instrument = OPX(\n",
    "    dummy_config, name=\"OPX_demo\", \n",
    "    host='dzurak-6d066ea0.quantum-machines.co',\n",
    "    port=443,\n",
    ")\n",
    "station.add_component(opx_instrument)"
   ]
  },
  {
   "cell_type": "code",
   "execution_count": null,
   "id": "80e0f13d-c234-4327-9114-564a7e9ca19b",
   "metadata": {},
   "outputs": [],
   "source": []
  }
 ],
 "metadata": {
  "kernelspec": {
   "display_name": "temp_env",
   "language": "python",
   "name": "temp_env"
  },
  "language_info": {
   "codemirror_mode": {
    "name": "ipython",
    "version": 3
   },
   "file_extension": ".py",
   "mimetype": "text/x-python",
   "name": "python",
   "nbconvert_exporter": "python",
   "pygments_lexer": "ipython3",
   "version": "3.11.3"
  }
 },
 "nbformat": 4,
 "nbformat_minor": 5
}
